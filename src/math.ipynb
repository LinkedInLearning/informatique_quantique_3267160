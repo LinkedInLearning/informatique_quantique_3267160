{
 "cells": [
  {
   "cell_type": "markdown",
   "metadata": {},
   "source": [
    "## Traduire les portes en matrices"
   ]
  },
  {
   "cell_type": "markdown",
   "metadata": {},
   "source": [
    "### Pourquoi ?"
   ]
  },
  {
   "cell_type": "markdown",
   "metadata": {},
   "source": [
    "$$\\ket{\\psi}=\\alpha\\ket{0} + \\beta\\ket{1}=\\begin{bmatrix}\\alpha\\\\ \\beta\\end{bmatrix}\\text{, }\\ket{0}=\\begin{bmatrix}1\\\\0\\end{bmatrix}\n",
    "\\text{, }\\ket{1}=\\begin{bmatrix}0\\\\1\\end{bmatrix}$$\n",
    "\n",
    "Matrice 2x2 (porte) x Vecteur (qubit) = Vecteur (qubit) tranformé"
   ]
  },
  {
   "cell_type": "markdown",
   "metadata": {},
   "source": [
    "### Quoi ?"
   ]
  },
  {
   "cell_type": "markdown",
   "metadata": {},
   "source": [
    "$$\\begin{bmatrix}a&b\\\\c&d\\end{bmatrix}\\begin{bmatrix}\\alpha\\\\ \\beta\\end{bmatrix}=\\begin{bmatrix}a.\\alpha+b.\\beta\\\\c.\\alpha+d.\\beta\\end{bmatrix}$$"
   ]
  },
  {
   "cell_type": "markdown",
   "metadata": {},
   "source": [
    "### Portes 1 qubit"
   ]
  },
  {
   "cell_type": "markdown",
   "metadata": {},
   "source": [
    "$$\n",
    "\\begin{align*}\n",
    "X=&\\begin{bmatrix}0&1\\\\1&0\\end{bmatrix}\\text{ (not)}\\\\\n",
    "Y=&\\begin{bmatrix}0&-i\\\\i&0\\end{bmatrix}\\\\\n",
    "Z=&\\begin{bmatrix}1&0\\\\0&-1\\end{bmatrix}\\\\\n",
    "H=\\frac{1}{\\sqrt{2}}&\\begin{bmatrix}1&1\\\\1&-1\\end{bmatrix}\\\\\n",
    "\\end{align*}\n",
    "$$"
   ]
  },
  {
   "cell_type": "markdown",
   "metadata": {},
   "source": [
    "### Exemples"
   ]
  },
  {
   "cell_type": "markdown",
   "metadata": {},
   "source": [
    "$$\n",
    "X\\ket{1}=\\begin{bmatrix}0&1\\\\1&0\\end{bmatrix}\\begin{bmatrix}0\\\\1\\end{bmatrix}=\\begin{bmatrix}0+1\\\\0+0\\end{bmatrix}=\\begin{bmatrix}1\\\\0\\end{bmatrix}=\\ket{0} \\\\\n",
    "H\\ket{0}=\\frac{1}{\\sqrt{2}}\\begin{bmatrix}1&1\\\\1&-1\\end{bmatrix}\\begin{bmatrix}1\\\\0\\end{bmatrix}=\\frac{1}{\\sqrt{2}}\\begin{bmatrix}1+0\\\\1+0\\end{bmatrix}=\\begin{bmatrix}\\frac{1}{\\sqrt{2}}\\\\ \\frac{1}{\\sqrt{2}}\\end{bmatrix}\n",
    "$$"
   ]
  },
  {
   "cell_type": "markdown",
   "metadata": {},
   "source": [
    "### Registres"
   ]
  },
  {
   "cell_type": "markdown",
   "metadata": {},
   "source": [
    "$$\\alpha\\ket{00}+\\beta\\ket{01}+\\gamma\\ket{10}+\\delta\\ket{11}=\\begin{bmatrix}\\alpha\\\\ \\beta \\\\ \\gamma \\\\ \\delta\\end{bmatrix}$$\n",
    "\n",
    "Matrice 4x4 (porte) x Vecteur (registre) = Vecteur (qubit) tranformé"
   ]
  },
  {
   "cell_type": "markdown",
   "metadata": {},
   "source": [
    "$$\n",
    "CX\\begin{bmatrix}\\frac{1}{\\sqrt{2}}\\\\0\\\\ \\frac{1}{\\sqrt{2}}\\\\0\\end{bmatrix}=\\begin{bmatrix}1&0&0&0\\\\0&1&0&0\\\\0&0&0&1\\\\0&0&1&0\\end{bmatrix}\\begin{bmatrix}\\frac{1}{\\sqrt{2}}\\\\0\\\\ \\frac{1}{\\sqrt{2}}\\\\0\\end{bmatrix}=\\begin{bmatrix}\\frac{1}{\\sqrt{2}}\\\\0\\\\0\\\\ \\frac{1}{\\sqrt{2}}\\end{bmatrix}"
   ]
  },
  {
   "cell_type": "markdown",
   "metadata": {},
   "source": [
    "### Qiskit"
   ]
  },
  {
   "cell_type": "code",
   "execution_count": 1,
   "metadata": {},
   "outputs": [],
   "source": [
    "from qiskit import BasicAer\n",
    "from qiskit import QuantumCircuit\n",
    "\n",
    "circuit = QuantumCircuit(2)\n",
    "simulateur = BasicAer.get_backend('statevector_simulator')"
   ]
  },
  {
   "cell_type": "code",
   "execution_count": 2,
   "metadata": {},
   "outputs": [
    {
     "name": "stdout",
     "output_type": "stream",
     "text": [
      "[0.70710678+0.j 0.        +0.j 0.        +0.j 0.70710678+0.j]\n"
     ]
    },
    {
     "data": {
      "text/latex": [
       "$$\n",
       "\n",
       "\\begin{bmatrix}\n",
       "\\frac{\\sqrt{2}}{2} & 0 & 0 & \\frac{\\sqrt{2}}{2}  \\\\\n",
       " \\end{bmatrix}\n",
       "$$"
      ],
      "text/plain": [
       "<IPython.core.display.Latex object>"
      ]
     },
     "execution_count": 2,
     "metadata": {},
     "output_type": "execute_result"
    }
   ],
   "source": [
    "from qiskit import transpile\n",
    "from qiskit.tools.visualization import array_to_latex\n",
    "\n",
    "circuit.clear()\n",
    "circuit.h(0)\n",
    "circuit.cx(0, 1)\n",
    "resultat = simulateur.run(transpile(circuit, simulateur)).result()\n",
    "vecteur = resultat.get_statevector()\n",
    "print(vecteur)\n",
    "array_to_latex(vecteur)"
   ]
  }
 ],
 "metadata": {
  "kernelspec": {
   "display_name": "Python 3",
   "language": "python",
   "name": "python3"
  },
  "language_info": {
   "codemirror_mode": {
    "name": "ipython",
    "version": 3
   },
   "file_extension": ".py",
   "mimetype": "text/x-python",
   "name": "python",
   "nbconvert_exporter": "python",
   "pygments_lexer": "ipython3",
   "version": "3.10.8"
  },
  "orig_nbformat": 4
 },
 "nbformat": 4,
 "nbformat_minor": 2
}
