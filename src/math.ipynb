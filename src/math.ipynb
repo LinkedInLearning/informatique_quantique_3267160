{
 "cells": [
  {
   "cell_type": "markdown",
   "metadata": {},
   "source": [
    "## Représenter les qubits en vecteurs"
   ]
  },
  {
   "cell_type": "markdown",
   "metadata": {},
   "source": [
    "### Pourquoi ?"
   ]
  },
  {
   "cell_type": "markdown",
   "metadata": {},
   "source": [
    "Formule d'un Qubit\n",
    "$$\n",
    "\\ket{\\psi}=\\alpha\\ket{0} + \\beta\\ket{1}\n",
    "$$\n",
    "\n",
    "$\\alpha$ et $\\beta$ : nombres complexes\n",
    "\n",
    "$\\ket{0}$ et $\\ket{1}$ : vecteurs"
   ]
  },
  {
   "cell_type": "markdown",
   "metadata": {},
   "source": [
    "### Quoi ?"
   ]
  },
  {
   "cell_type": "markdown",
   "metadata": {},
   "source": [
    "$$ \\vec{v}=\\begin{bmatrix}x\\\\y\\end{bmatrix} $$"
   ]
  },
  {
   "cell_type": "markdown",
   "metadata": {},
   "source": [
    "#### Norme"
   ]
  },
  {
   "cell_type": "markdown",
   "metadata": {},
   "source": [
    "$$\\|\\vec{v}\\|=\\sqrt{x²+y²}$$"
   ]
  },
  {
   "cell_type": "markdown",
   "metadata": {},
   "source": [
    "### Opérations"
   ]
  },
  {
   "cell_type": "markdown",
   "metadata": {},
   "source": [
    "#### Somme"
   ]
  },
  {
   "cell_type": "markdown",
   "metadata": {},
   "source": [
    "$$ \\begin{bmatrix}x\\\\y\\end{bmatrix}+\\begin{bmatrix}x'\\\\y'\\end{bmatrix} = \\begin{bmatrix}x+x'\\\\y+y'\\end{bmatrix} $$"
   ]
  },
  {
   "cell_type": "markdown",
   "metadata": {},
   "source": [
    "#### Produit avec un réel"
   ]
  },
  {
   "cell_type": "markdown",
   "metadata": {},
   "source": [
    "$$ k\\vec{v}=k\\begin{bmatrix}x\\\\y\\end{bmatrix}=\\begin{bmatrix}kx\\\\ky\\end{bmatrix}$$ \n",
    "$$\\|k\\vec{v}\\|=k\\|\\vec{v}\\|$$"
   ]
  },
  {
   "cell_type": "markdown",
   "metadata": {},
   "source": [
    "#### Normalisation"
   ]
  },
  {
   "cell_type": "markdown",
   "metadata": {},
   "source": [
    "$$ \\vec{v}=\\begin{bmatrix}x\\\\y\\end{bmatrix} $$\n",
    "$$\\vec{u_v}=\\frac{\\vec{v}}{\\|\\vec{v}\\|}=\\begin{bmatrix}\\frac{x}{\\|\\vec{v}\\|}\\\\\\frac{y}{\\|\\vec{v}\\|}\\end{bmatrix}\\text{, }\\|\\vec{u_v}\\|=1$$"
   ]
  },
  {
   "cell_type": "markdown",
   "metadata": {},
   "source": [
    "### Notation de Dirac"
   ]
  },
  {
   "cell_type": "markdown",
   "metadata": {},
   "source": [
    "$$ \\ket{0}=\\begin{bmatrix}1\\\\0\\end{bmatrix}, \\ket{1}=\\begin{bmatrix}0\\\\1\\end{bmatrix} $$"
   ]
  },
  {
   "cell_type": "markdown",
   "metadata": {},
   "source": [
    "### Qubit = Vecteur"
   ]
  },
  {
   "cell_type": "markdown",
   "metadata": {},
   "source": [
    "$$\n",
    "\\begin{align*}\n",
    "\\ket{\\psi}\n",
    "  &=\\alpha\\ket{0}+\\beta\\ket{1}\\\\\n",
    "  &=\\alpha\\begin{bmatrix}1\\\\0\\end{bmatrix}+\\beta\\begin{bmatrix}0\\\\1\\end{bmatrix}\n",
    "  =\\begin{bmatrix}\\alpha\\\\0\\end{bmatrix}+\\begin{bmatrix}0\\\\\\beta\\end{bmatrix}\n",
    "  =\\begin{bmatrix}\\alpha\\\\ \\beta\\end{bmatrix}\n",
    "\\end{align*}\n",
    "$$\n",
    "Un qubit est un vecteur de nombres complexes."
   ]
  }
 ],
 "metadata": {
  "kernelspec": {
   "display_name": "Python 3",
   "language": "python",
   "name": "python3"
  },
  "language_info": {
   "name": "python",
   "version": "3.10.8"
  },
  "orig_nbformat": 4
 },
 "nbformat": 4,
 "nbformat_minor": 2
}
