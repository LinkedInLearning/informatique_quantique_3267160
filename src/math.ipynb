{
 "cells": [
  {
   "cell_type": "markdown",
   "metadata": {},
   "source": [
    "## Manipuler les nombres complexes"
   ]
  },
  {
   "cell_type": "markdown",
   "metadata": {},
   "source": [
    "### Pourquoi ?"
   ]
  },
  {
   "cell_type": "markdown",
   "metadata": {},
   "source": [
    "Formule d'un Qubit\n",
    "$$\n",
    "\\ket{\\psi}=\\alpha\\ket{0} + \\beta\\ket{1}\n",
    "$$\n",
    "\n",
    "$\\alpha$ et $\\beta$ : nombres complexes\n",
    "\n",
    "Probabilité de mesurer 0 : $|\\alpha|²$, mesurer 1 : $|\\beta|²$"
   ]
  },
  {
   "cell_type": "markdown",
   "metadata": {},
   "source": [
    "### C'est quoi ?"
   ]
  },
  {
   "cell_type": "markdown",
   "metadata": {},
   "source": [
    "$$\n",
    "z=a+ib\\\\ \n",
    "i\\text{ nombre imaginaire : }i²=-1\\\\\n",
    "$$"
   ]
  },
  {
   "cell_type": "markdown",
   "metadata": {},
   "source": [
    "#### Exemples"
   ]
  },
  {
   "cell_type": "markdown",
   "metadata": {},
   "source": [
    "$$\n",
    "\\begin{align*}\n",
    "&z_1=3+4i\\\\\n",
    "&z_2=2+i\\\\\n",
    "&z_3=-3i\\\\\n",
    "&z_4=\\frac{5}{2}-\\frac{1}{3}i\n",
    "\\end{align*}\n",
    "$$"
   ]
  },
  {
   "cell_type": "markdown",
   "metadata": {},
   "source": [
    "### Opérations"
   ]
  },
  {
   "cell_type": "markdown",
   "metadata": {},
   "source": [
    "#### Addition"
   ]
  },
  {
   "cell_type": "markdown",
   "metadata": {},
   "source": [
    "$$\n",
    "\\begin{align*}\n",
    "  z_1+z_2&=(3+4i)+(2+i)\\\\\n",
    "  &=(3+2)+(4+1)i \\\\\n",
    "  &=5+5i\n",
    "\\end{align*}\n",
    "$$"
   ]
  },
  {
   "cell_type": "markdown",
   "metadata": {},
   "source": [
    "#### Multiplication"
   ]
  },
  {
   "cell_type": "markdown",
   "metadata": {},
   "source": [
    "$$\n",
    "  \\begin{align*}\n",
    "    z_2.z_1&=(2+i)(3+4i)\\\\&=2\\times(3+4i)+i(3+4i) \\\\\n",
    "    &=6+8i+3i+4\\times-1 \\\\\n",
    "    &=(6-4)+(8+3)i \\\\\n",
    "    &=2+11i\n",
    "  \\end{align*}\n",
    "$$"
   ]
  },
  {
   "cell_type": "markdown",
   "metadata": {},
   "source": [
    "### Représentations graphiques"
   ]
  },
  {
   "cell_type": "markdown",
   "metadata": {},
   "source": [
    "#### Cartésienne"
   ]
  },
  {
   "cell_type": "markdown",
   "metadata": {},
   "source": [
    "![Représetation cartésienne](complex0_z1z2.png \"Représentation cartésienne\")"
   ]
  },
  {
   "cell_type": "markdown",
   "metadata": {},
   "source": [
    "#### Polaire"
   ]
  },
  {
   "cell_type": "markdown",
   "metadata": {},
   "source": [
    "![Représentation polaire](complex1_z1z2.png \"Représentation polaire\")"
   ]
  },
  {
   "cell_type": "markdown",
   "metadata": {},
   "source": [
    "### Notation exponentielle"
   ]
  },
  {
   "cell_type": "markdown",
   "metadata": {},
   "source": [
    "$$ \n",
    "\\begin{align*}\n",
    "z&=re^{i\\theta} \\\\\n",
    "&=r.cos(\\theta)+r.sin(\\theta).i\n",
    "\\end{align*}\n",
    "$$\n",
    "$r$ : Module<br>\n",
    "$\\theta$ : Argument<br> \n",
    "$e\\approx 2.71828$"
   ]
  },
  {
   "cell_type": "markdown",
   "metadata": {},
   "source": [
    "#### Multiplication"
   ]
  },
  {
   "cell_type": "markdown",
   "metadata": {},
   "source": [
    "$$\n",
    "\\begin{align*}\n",
    "z_1\\times z_2&=r_1e^{i\\theta_1}\\times r_2e^{i\\theta_2}\\\\\n",
    "&=r_1r_2e^{i(\\theta_1+\\theta_2)}\n",
    "\\end{align*}\n",
    "$$"
   ]
  },
  {
   "cell_type": "markdown",
   "metadata": {},
   "source": [
    "### Module"
   ]
  },
  {
   "cell_type": "markdown",
   "metadata": {},
   "source": [
    "$$ \n",
    "\\begin{align*}\n",
    "r&=|z|&&=\\sqrt{a²+b²}\\\\\n",
    "r_1&=|z_1|&&=\\sqrt{3²+4²}\\\\& &&=\\sqrt{9+16}\\\\& &&=5 \n",
    "\\end{align*}\n",
    "$$\n"
   ]
  },
  {
   "cell_type": "markdown",
   "metadata": {},
   "source": [
    "### Qubit - Probabilités"
   ]
  },
  {
   "cell_type": "markdown",
   "metadata": {},
   "source": [
    "$$\\alpha\\ket{0} + \\beta\\ket{1}$$\n",
    "\n",
    "$\\alpha$ et $\\beta$ complexes : $\\beta=re^{i\\theta}=a+ib$\n",
    "\n",
    "Probabilité de mesurer 1 : $|\\beta|²=r²=a²+b²$  "
   ]
  }
 ],
 "metadata": {
  "kernelspec": {
   "display_name": "Python 3",
   "language": "python",
   "name": "python3"
  },
  "language_info": {
   "codemirror_mode": {
    "name": "ipython",
    "version": 3
   },
   "file_extension": ".py",
   "mimetype": "text/x-python",
   "name": "python",
   "nbconvert_exporter": "python",
   "pygments_lexer": "ipython3",
   "version": "3.10.8"
  },
  "orig_nbformat": 4
 },
 "nbformat": 4,
 "nbformat_minor": 2
}
