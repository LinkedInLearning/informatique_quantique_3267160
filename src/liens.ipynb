{
 "cells": [
  {
   "cell_type": "markdown",
   "metadata": {},
   "source": [
    "## Réaliser la mesure (fin)\n",
    "\n",
    "[IBM quantum](https://quantum-computing.ibm.com/composer/files/new?initial=N4IgdghgtgpiBcIAMBmA%2BkgLGgZiANCAI4QDOUCIA8gAoCiAcgIoCCAygLIAEATAHRIA3AB0wASzABjADYBXACYwuw4jGliARgEY%2BEySpFgA5hAAuSgPYAnCFxhJ8drY5g8uwUVy4APJ4a%2BSvjDOdjz%2BXKbyRqHhgXYOMZ4RiWABQSGu4ZHRmUlx9i5hSaZ%2BxSlp8S5aWVGlqVz5CcFZ8eHphgC%2BoqIm5lzyYjiVToXuSQAWrRN1XpO59UFCSe3L5VxzRfUaEFZWYjBWU1s7ewczDY1VheEb4du7%2B4f2dyeP54tt72tzS-Vz1dN5l0wKIiFYYNEiABtFAAXUMknB0UkMPhokm0KQaLAGKhWmxuJ42OstkxsMc0PxFKhRMMAyGZOpVK40NpohJLKhWKZ5M5bLA9M53M5zNZ2Pup0OREEXAA9LKuAABAAO4zIMAAImJSABrUSwMiycFC2FcAC0AD4GlzsQbSEalJTTZbrfjDHaHXznVaUfyCCBFKREWJlaYxBYwJQQB0gA)"
   ]
  }
 ],
 "metadata": {
  "kernelspec": {
   "display_name": "Python 3",
   "language": "python",
   "name": "python3"
  },
  "language_info": {
   "name": "python",
   "version": "3.10.8"
  },
  "orig_nbformat": 4
 },
 "nbformat": 4,
 "nbformat_minor": 2
}
