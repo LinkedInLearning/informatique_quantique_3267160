{
 "cells": [
  {
   "cell_type": "markdown",
   "metadata": {},
   "source": [
    "## Construire le circuit diffuseur (fin)\n",
    "\n",
    "[Quirk](https://algassert.com/quirk#circuit={%22cols%22:[[%22H%22,%22H%22,%22H%22],[%22~mn4k%22],[%22~4u65%22]],%22gates%22:[{%22id%22:%22~mn4k%22,%22name%22:%22Oracle%22,%22circuit%22:{%22cols%22:[[1,%22X%22],[%22%E2%80%A2%22,%22%E2%80%A2%22,%22Z%22],[1,%22X%22]]}},{%22id%22:%22~4u65%22,%22name%22:%22Diffuseur%22,%22circuit%22:{%22cols%22:[[%22H%22,%22H%22,%22H%22],[%22X%22,%22X%22,%22X%22],[%22%E2%80%A2%22,%22%E2%80%A2%22,%22Z%22],[%22X%22,%22X%22,%22X%22],[%22H%22,%22H%22,%22H%22]]}}]})"
   ]
  }
 ],
 "metadata": {
  "kernelspec": {
   "display_name": "Python 3",
   "language": "python",
   "name": "python3"
  },
  "language_info": {
   "name": "python",
   "version": "3.10.8"
  },
  "orig_nbformat": 4
 },
 "nbformat": 4,
 "nbformat_minor": 2
}
