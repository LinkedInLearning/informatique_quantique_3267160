{
 "cells": [
  {
   "cell_type": "markdown",
   "metadata": {},
   "source": [
    "## Réaliser la mesure (début)\n",
    "\n",
    "[IBM quantum](https://quantum-computing.ibm.com/composer/files/new?initial=N4IgdghgtgpiBcIAMBmA%2BkgLGgJiANCAI4QDOUCIA8gAoCiAcgIoCCAygLIAEATAHRIA3AB0wASzABjADYBXHDC7DiMaWIBGARj4TJykWADmEAC6KA9gCcIXGEny3NDmDy7BRXLgA9HBz5J8YJ1sePy4THEMQsIDbe2iPcISwf0DglzCIqIzE2LtnUMSTXyLk1LjnTUzIkpSuPPigzLiwtIMAX1FRYzMuHDEAMwrHArdEgAsWidrPSZy6wKFEtuWyrjnCuvUIS0sxGEsprZ29g5n6hsqCsI2w7d39w7s7k8fzxdb3tbmlurmq6bzTpgURESwwKJEADaKAAugZJOCopIYfDRAQQApSIixAAHExicxgSggdpAA)\n",
    "\n",
    "Code OpenQASM :\n",
    "```\n",
    "  OPENQASM 2.0;\n",
    "  include \"qelib1.inc\";\n",
    "  gate ora e0, e1, e2 {\n",
    "    x e1;\n",
    "    cx e1, e2;\n",
    "    tdg e2;\n",
    "    cx e0, e2;\n",
    "    t e2;\n",
    "    cx e1, e2;\n",
    "    tdg e2;\n",
    "    cx e0, e2;\n",
    "    t e1;\n",
    "    t e2;\n",
    "    cx e0, e1;\n",
    "    tdg e1;\n",
    "    cx e0, e1;\n",
    "    t e0;\n",
    "    x e1;\n",
    "  }\n",
    "\n",
    "  gate dif e0, e1, e2 {\n",
    "    h e0;\n",
    "    h e1;\n",
    "    h e2;\n",
    "    x e0;\n",
    "    x e1;\n",
    "    x e2;\n",
    "    h e2;\n",
    "    barrier e0;\n",
    "    barrier e1;\n",
    "    ccx e0, e1, e2;\n",
    "    h e2;\n",
    "    barrier e0;\n",
    "    barrier e1;\n",
    "    x e0;\n",
    "    x e1;\n",
    "    x e2;\n",
    "    h e0;\n",
    "    h e1;\n",
    "    h e2;\n",
    "  }\n",
    "\n",
    "  qreg q[3];\n",
    "  creg c[3];\n",
    "```"
   ]
  }
 ],
 "metadata": {
  "kernelspec": {
   "display_name": "Python 3",
   "language": "python",
   "name": "python3"
  },
  "language_info": {
   "name": "python",
   "version": "3.10.8"
  },
  "orig_nbformat": 4
 },
 "nbformat": 4,
 "nbformat_minor": 2
}
