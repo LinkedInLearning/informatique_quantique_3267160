{
 "cells": [
  {
   "cell_type": "markdown",
   "metadata": {},
   "source": [
    "## Générer de vrais nombres aléatoires (fin)\n",
    "\n",
    "- [Quirk](https://algassert.com/quirk#circuit={%22cols%22:[[%22H%22,%22H%22,%22H%22,%22H%22,%22H%22]]})\n",
    "- [IBM Quantum](https://quantum-computing.ibm.com/composer/files/new?initial=N4IgdghgtgpiBcIAMAmA%2BkgzCANCAjhAM5QIgDyACgKIByAigIIDKAsgAQoB0SA3ADpgAlmADGAGwCuAExjt%2BBGOKEAjAIxcRohQLCD8AJxgBzdqID2k8TEkGA2igC6u0UdMWrNg0QfP9b9gA3CGtbO0w-MQDg0O9wyIALM0tYuyRE5M8wtQyYrzTckPyc3SS8sKddWGJbOQ9U9PYAWgA%2BTNifdKqYGqN24sdmtvqvHxLBaqJaoKKwxtaZjoLu3rly%2BxyhxdG7cbBJ6fXfLfWfSsFcEFkiVyEABwAXIXMwMkZ2ACElcXYiB4gHnAAL5AA)"
   ]
  }
 ],
 "metadata": {
  "kernelspec": {
   "display_name": "Python 3",
   "language": "python",
   "name": "python3"
  },
  "language_info": {
   "name": "python",
   "version": "3.10.8"
  },
  "orig_nbformat": 4
 },
 "nbformat": 4,
 "nbformat_minor": 2
}
