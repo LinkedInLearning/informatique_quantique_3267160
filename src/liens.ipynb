{
 "cells": [
  {
   "cell_type": "markdown",
   "metadata": {},
   "source": [
    "## Générer de vrais nombres aléatoires (début)\n",
    "\n",
    "- [Quirk](https://algassert.com/quirk#circuit={%22cols%22:[[%22H%22]]})\n",
    "- [IBM Quantum](https://quantum-computing.ibm.com/composer/files/new?initial=N4IgdghgtgpiBcIAMAmA%2BkgzGgJiANCAI4QDOUCIA8gAoCiAcgIoCCAygLIAEKAdEgG4AOmACWYAMYAbAK44YXIcRhTRAIwCMvcRKXCwIogCcYAcy5EA2hoC6%2BiSfMTrdkQAsLlpK7CwyMk09vLgBaAD4uZ299AhB5UgdRAAcAF1EAezBKEABfIA)"
   ]
  }
 ],
 "metadata": {
  "kernelspec": {
   "display_name": "Python 3",
   "language": "python",
   "name": "python3"
  },
  "language_info": {
   "name": "python",
   "version": "3.10.8"
  },
  "orig_nbformat": 4
 },
 "nbformat": 4,
 "nbformat_minor": 2
}
