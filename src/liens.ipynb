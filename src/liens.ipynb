{
 "cells": [
  {
   "cell_type": "markdown",
   "metadata": {},
   "source": [
    "## Construire le circuit diffuseur (début)\n",
    "\n",
    "[Quirk](https://algassert.com/quirk#circuit=%7B%22cols%22%3A%5B%5B%22H%22%2C%22H%22%2C%22H%22%5D%2C%5B%22~mn4k%22%5D%5D%2C%22gates%22%3A%5B%7B%22id%22%3A%22~mn4k%22%2C%22name%22%3A%22Oracle%22%2C%22circuit%22%3A%7B%22cols%22%3A%5B%5B1%2C%22X%22%5D%2C%5B%22%E2%80%A2%22%2C%22%E2%80%A2%22%2C%22Z%22%5D%2C%5B1%2C%22X%22%5D%5D%7D%7D%5D%7D)"
   ]
  }
 ],
 "metadata": {
  "kernelspec": {
   "display_name": "Python 3",
   "language": "python",
   "name": "python3"
  },
  "language_info": {
   "name": "python",
   "version": "3.10.8"
  },
  "orig_nbformat": 4
 },
 "nbformat": 4,
 "nbformat_minor": 2
}
