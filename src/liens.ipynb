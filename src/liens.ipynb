{
 "cells": [
  {
   "cell_type": "markdown",
   "metadata": {},
   "source": [
    "## Intriquer deux qubits (fin)\n",
    "\n",
    "[Quirk](https://algassert.com/quirk#circuit={%22cols%22:[[1,1,%22X%22,%22H%22,%22H%22],[%22H%22,1,%22H%22,%22X%22,%22H%22],[%22Chance%22,1,%22H%22,%22H%22,%22X%22],[%22%E2%80%A2%22,%22X%22]]})"
   ]
  }
 ],
 "metadata": {
  "kernelspec": {
   "display_name": "Python 3",
   "language": "python",
   "name": "python3"
  },
  "language_info": {
   "name": "python",
   "version": "3.10.8"
  },
  "orig_nbformat": 4
 },
 "nbformat": 4,
 "nbformat_minor": 2
}
