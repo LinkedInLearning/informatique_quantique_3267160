{
 "cells": [
  {
   "cell_type": "markdown",
   "metadata": {},
   "source": [
    "## Échanger quantiquement une clé"
   ]
  },
  {
   "cell_type": "markdown",
   "metadata": {},
   "source": [
    "### Alice - Préparation/envoi"
   ]
  },
  {
   "cell_type": "markdown",
   "metadata": {},
   "source": [
    "1. |1⟩ + H\n",
    "1. |0⟩ \n",
    "1. |1⟩ + H\n",
    "1. |0⟩ + H\n",
    "1. |1⟩\n",
    "1. |1⟩ + H\n",
    "1. |0⟩\n",
    "1. |1⟩ + H"
   ]
  },
  {
   "cell_type": "markdown",
   "metadata": {},
   "source": [
    "### Bob - Reçoit/traite/demande"
   ]
  },
  {
   "cell_type": "markdown",
   "metadata": {},
   "source": [
    "#### Réception/traitement"
   ]
  },
  {
   "cell_type": "markdown",
   "metadata": {},
   "source": [
    "<table>\n",
    "<tr><th></th><th>Reçu</th><th>Aléatoire</th><th>Mesure</th></tr>\n",
    "<tr><td>1</td><td>|1⟩ + H</td><td></td><td>0/1</td></tr>\n",
    "<tr><td>2</td><td>|0⟩ </td><td>H</td><td>0/1</td></tr>\n",
    "<tr><td>3</td><td>|1⟩ + H</td><td></td><td>0/1</td></tr>\n",
    "<tr><td>4</td><td>|0⟩ + H</td><td>H</td><td>0</td></tr>\n",
    "<tr><td>5</td><td>|1⟩</td><td></td><td>1</td></tr>\n",
    "<tr><td>6</td><td>|1⟩ + H</td><td></td><td>0/1</td></tr>\n",
    "<tr><td>7</td><td>|0⟩</td><td>H </td><td>0/1</td></tr>\n",
    "<tr><td>8</td><td>|1⟩ + H</td><td>H</td><td>1</td></tr>\n",
    "</table>"
   ]
  },
  {
   "cell_type": "markdown",
   "metadata": {},
   "source": [
    "#### Envoi \"J'ai fait H sur... Que garder ?\""
   ]
  },
  {
   "cell_type": "markdown",
   "metadata": {},
   "source": [
    "J'ai fait H sur **2, 4, 7, 8** Que garder ? "
   ]
  },
  {
   "cell_type": "markdown",
   "metadata": {},
   "source": [
    "### Alice - Répond"
   ]
  },
  {
   "cell_type": "markdown",
   "metadata": {},
   "source": [
    "<table>\n",
    "<tr><th></th><th>A</th><th>B</th><th></th></tr>\n",
    "<tr><td>1</td><td>H</td><td> </td><td></td></tr>\n",
    "<tr><td>2</td><td> </td><td>H</td><td></td></tr>\n",
    "<tr><td>3</td><td>H</td><td> </td><td></td></tr>\n",
    "<tr><td>4</td><td>H</td><td>H</td><td>ok</td></tr>\n",
    "<tr><td>5</td><td> </td><td> </td><td>ok</td></tr>\n",
    "<tr><td>6</td><td>H</td><td> </td><td></td></tr>\n",
    "<tr><td>7</td><td> </td><td>H</td><td></td></tr>\n",
    "<tr><td>8</td><td>H</td><td>H</td><td>ok</td></tr>\n",
    "</table>\n",
    "Message à Bob : 4, 5, 8\n",
    "\n",
    "Clé est : 0,  1, 1"
   ]
  },
  {
   "cell_type": "markdown",
   "metadata": {},
   "source": [
    "### Bob déduit la clé"
   ]
  },
  {
   "cell_type": "markdown",
   "metadata": {},
   "source": [
    "Clé est : 0, 1, 1"
   ]
  }
 ],
 "metadata": {
  "kernelspec": {
   "display_name": "Python 3",
   "language": "python",
   "name": "python3"
  },
  "language_info": {
   "codemirror_mode": {
    "name": "ipython",
    "version": 3
   },
   "file_extension": ".py",
   "mimetype": "text/x-python",
   "name": "python",
   "nbconvert_exporter": "python",
   "pygments_lexer": "ipython3",
   "version": "3.10.8"
  },
  "orig_nbformat": 4
 },
 "nbformat": 4,
 "nbformat_minor": 2
}
