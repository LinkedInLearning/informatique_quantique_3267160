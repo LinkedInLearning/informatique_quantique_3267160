{
 "cells": [
  {
   "cell_type": "markdown",
   "metadata": {},
   "source": [
    "## Identifier la vulnérabilité du chiffrement RSA"
   ]
  },
  {
   "cell_type": "markdown",
   "metadata": {},
   "source": [
    "### Génération des clés"
   ]
  },
  {
   "cell_type": "markdown",
   "metadata": {},
   "source": [
    "2 nombres premiers $p=3$, $q=11$, $n=p.q=33$\n",
    "- Clé publique est $33, e$\n",
    "- Clé privée est $33, d$"
   ]
  },
  {
   "cell_type": "markdown",
   "metadata": {},
   "source": [
    "#### Trouver e et d"
   ]
  },
  {
   "cell_type": "markdown",
   "metadata": {},
   "source": [
    "$f=(p-1)(q-1)=20$\n",
    "\n",
    "e est premier avec f : $e=3$\n",
    "\n",
    "$d = (1+f\\times\\ldots)/e$\n",
    "\n",
    "$d = (1+20\\times1)/3 = 7 $"
   ]
  },
  {
   "cell_type": "markdown",
   "metadata": {},
   "source": [
    "#### Résultat"
   ]
  },
  {
   "cell_type": "markdown",
   "metadata": {},
   "source": [
    "Clé publique est $33, 3$\n",
    "Clé privée est $33, 7$\n",
    "\n",
    "**Vulnérable si on peut trouver $p$ et $q$ à partir de 33**"
   ]
  },
  {
   "cell_type": "markdown",
   "metadata": {},
   "source": [
    "### Algorithme de Shor\n",
    "n = 143"
   ]
  },
  {
   "cell_type": "markdown",
   "metadata": {},
   "source": [
    "1. Prendre $a$ le premier nombre non paire et non carré $a<n$\n",
    "2. Chercher la période r\n",
    "3. Si r est impair, revenir au 1.\n",
    "4. Sinon $p=pgcd(a^{r/2}-1; 143), q=pgcd(a^{r/2}+1; 143)$ "
   ]
  },
  {
   "cell_type": "markdown",
   "metadata": {},
   "source": [
    "#### Exemple"
   ]
  },
  {
   "cell_type": "markdown",
   "metadata": {},
   "source": [
    "##### $a=3$"
   ]
  },
  {
   "cell_type": "markdown",
   "metadata": {},
   "source": [
    "<table>\n",
    "<tr><th>a</th><th>r</th><th>a^r mod 143</th></tr>\n",
    "<tr><td>3</td><td>1</td><td>3</td></tr>\n",
    "<tr><td>3</td><td>2</td><td>9</td></tr>\n",
    "<tr><td>3</td><td>3</td><td>27</td></tr>\n",
    "<tr><td>3</td><td>4</td><td>81</td></tr>\n",
    "<tr><td>3</td><td>5</td><td>100</td></tr>\n",
    "<tr><td>3</td><td>6</td><td>14</td></tr>\n",
    "<tr><td>3</td><td>7</td><td>42</td></tr>\n",
    "<tr><td>3</td><td>8</td><td>126</td></tr>\n",
    "<tr><td>3</td><td>9</td><td>92</td></tr>\n",
    "<tr><td>3</td><td>10</td><td>133</td></tr>\n",
    "<tr><td>3</td><td>11</td><td>113</td></tr>\n",
    "<tr><td>3</td><td>12</td><td>53</td></tr>\n",
    "<tr><td>3</td><td>13</td><td>16</td></tr>\n",
    "<tr><td>3</td><td>14</td><td>48</td></tr>\n",
    "<tr><td>3</td><td>15 <b>impair !</b></td><td>1</td></tr>\n",
    "</table>"
   ]
  },
  {
   "cell_type": "markdown",
   "metadata": {},
   "source": [
    "##### $a=5$"
   ]
  },
  {
   "cell_type": "markdown",
   "metadata": {},
   "source": [
    "<table>\n",
    "<tr><th>a</th><th>r</th><th>a^r mod 143</th></tr>\n",
    "<tr><td>5</td><td>1</td><td>5</td></tr>\n",
    "<tr><td>5</td><td>2</td><td>25</td></tr>\n",
    "<tr><td>5</td><td>3</td><td>125</td></tr>\n",
    "<tr><td>5</td><td>4</td><td>53</td></tr>\n",
    "<tr><td>5</td><td>5</td><td>122</td></tr>\n",
    "<tr><td>5</td><td>6</td><td>38</td></tr>\n",
    "<tr><td>5</td><td>7</td><td>47</td></tr>\n",
    "<tr><td>5</td><td>8</td><td>92</td></tr>\n",
    "<tr><td>5</td><td>9</td><td>31</td></tr>\n",
    "<tr><td>5</td><td>10</td><td>12</td></tr>\n",
    "<tr><td>5</td><td>11</td><td>60</td></tr>\n",
    "<tr><td>5</td><td>12</td><td>14</td></tr>\n",
    "<tr><td>5</td><td>13</td><td>70</td></tr>\n",
    "<tr><td>5</td><td>14</td><td>64</td></tr>\n",
    "<tr><td>5</td><td>15</td><td>34</td></tr>\n",
    "<tr><td>5</td><td>16</td><td>27</td></tr>\n",
    "<tr><td>5</td><td>17</td><td>135</td></tr>\n",
    "<tr><td>5</td><td>18</td><td>103</td></tr>\n",
    "<tr><td>5</td><td>19</td><td>86</td></tr>\n",
    "<tr><td>5</td><td>20 <b>Pair !</b></td><td>1</td></tr>\n",
    "</table>"
   ]
  },
  {
   "cell_type": "markdown",
   "metadata": {},
   "source": [
    "#### Solution"
   ]
  },
  {
   "cell_type": "markdown",
   "metadata": {},
   "source": [
    " $p=pgcd(a^{r/2}-1; 143)=pgcd(5^{10}-1; 143)=pgcd(9765624; 143)=11$\n",
    " \n",
    " $q=pgcd(a^{r/2}+1; 143)=pgcd(5^{10}+1; 143)=pgcd(9765626; 143)=13$"
   ]
  }
 ],
 "metadata": {
  "kernelspec": {
   "display_name": "Python 3",
   "language": "python",
   "name": "python3"
  },
  "language_info": {
   "codemirror_mode": {
    "name": "ipython",
    "version": 3
   },
   "file_extension": ".py",
   "mimetype": "text/x-python",
   "name": "python",
   "nbconvert_exporter": "python",
   "pygments_lexer": "ipython3",
   "version": "3.10.8"
  },
  "orig_nbformat": 4
 },
 "nbformat": 4,
 "nbformat_minor": 2
}
